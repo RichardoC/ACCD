{
 "cells": [
  {
   "cell_type": "code",
   "execution_count": null,
   "metadata": {
    "collapsed": true
   },
   "outputs": [],
   "source": [
    "import csv\n",
    "import numpy as np\n",
    "import matplotlib.pyplot as plt\n",
    "%matplotlib inline\n",
    "plt.rcParams['figure.figsize'] = [10, 8]\n",
    "\n",
    "from os import listdir\n",
    "\n",
    "class spectrum_plotter:\n",
    "    \"\"\"Class to plot the  spectrums from a filename\n",
    "    also plots the spectrum if given arg legend=True\n",
    "    if zero is a filename, it takes the difference between the data and the zero reading and plots that\"\"\"\n",
    "    def __init__(self,filenamestr,legend=False, zero=\"-1\", ylabel = '-1'):\n",
    "        inputdata = np.loadtxt(filenamestr, skiprows=1)\n",
    "        inputa = inputdata\n",
    "        if zero !=\"-1\":\n",
    "            zero_reading = np.loadtxt(zero, skiprows=1)\n",
    "            for i in range(0, len(inputdata)):\n",
    "                inputa[i,1] = inputdata[i,1] - zero_reading[i,1]\n",
    "        #plt.gca().set_color_cycle(\n",
    "        plt.plot(inputa[:,0],inputa[:,1], '.-', label=filenamestr)\n",
    "        plt.xlabel(\"Frequency/$s^{-1}$\")\n",
    "        plt.ylabel(\"Intensity/dB\")\n",
    "        #plt.xlim(0,1200)\n",
    "        if legend == True:\n",
    "            plt.legend(loc='best')\n",
    "        if ylabel != '-1':\n",
    "            plt.ylabel(ylabel)\n",
    "            \n",
    "            \n",
    "        inputdata = np.loadtxt(filenamestr)\n",
    "        \n",
    "        \n",
    "filename = \"/Users/richardf/Thu Feb 18 15:22:11 2016.csv\"\n",
    "\n",
    "#inputdata = np.loadtxt(\"/Users/richardf/Thu Feb 18 15:22:11 2016.csv\", delimiter=',',usecols = (1,3,5))\n",
    "\n",
    "input1 = []\n",
    "\n",
    "with open(filename, 'rb') as csvfile:\n",
    "     spamreader = csv.reader(csvfile, delimiter=',', quotechar='|')\n",
    "     for row in spamreader:\n",
    "         input1.append(row)\n",
    "freq = []\n",
    "time = []\n",
    "for x in input1[3][2:-2]:\n",
    "    #print x\n",
    "    y = float(x)\n",
    "    if y>0.1:\n",
    "        freq.append(1/(2*y))\n",
    "        #print str(freq[-1])\n",
    "        time.append(y)"
   ]
  }
 ],
 "metadata": {
  "kernelspec": {
   "display_name": "Python 2",
   "language": "python",
   "name": "python2"
  },
  "language_info": {
   "codemirror_mode": {
    "name": "ipython",
    "version": 2
   },
   "file_extension": ".py",
   "mimetype": "text/x-python",
   "name": "python",
   "nbconvert_exporter": "python",
   "pygments_lexer": "ipython2",
   "version": "2.7.11"
  }
 },
 "nbformat": 4,
 "nbformat_minor": 0
}
