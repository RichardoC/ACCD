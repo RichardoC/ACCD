{
 "cells": [
  {
   "cell_type": "code",
   "execution_count": 2,
   "metadata": {
    "collapsed": false
   },
   "outputs": [],
   "source": [
    "import numpy as np\n",
    "import csv\n",
    "\n",
    "import matplotlib.pyplot as plt\n",
    "%matplotlib inline\n",
    "plt.rcParams['figure.figsize'] = [10, 8]\n",
    "\n",
    "from os import listdir\n",
    "        \n",
    "# content = content.decode('utf-8')         \n",
    "\n",
    "\n",
    "\n",
    "# test_data = np.genfromtxt('./data_export_cobercat/data_export_1-2015.csv',skip_header=1,delimiter=',', dtype=None, names=['timestamp','date','lat','lng','signal_inst','signal_min','signal_max','signal_avg','carrier','fullCarrier','status','net','net_type','lac','cid','psc','speed,satellites','precision1','provider','activity','incident','downloadSpeed','uploadSpeed'],filling_values=(-1))"
   ]
  },
  {
   "cell_type": "code",
   "execution_count": 3,
   "metadata": {
    "collapsed": true
   },
   "outputs": [],
   "source": [
    "class cell_user:\n",
    "    '''Holds data for each user'''\n",
    "    \n",
    "    def __init__(self, inpu):\n",
    "        self.timestamp = int(inpu[0])\n",
    "        self.date = inpu[1]\n",
    "        self.lat = float(inpu[2])\n",
    "        self.lng = float(inpu[3])\n",
    "        self.signal_inst = int(inpu[4])\n",
    "        self.signal_min = int(inpu[5])\n",
    "        self.signal_max = int(inpu[6])\n",
    "        self.signal_avg = int(inpu[7])\n",
    "        self.carrier = unicode(inpu[8])\n",
    "        self.fullCarrier = unicode(inpu[9])\n",
    "        self.status = int(inpu[10])\n",
    "            \n",
    "#         self.status = int(inpu[10])\n",
    "        self.net = int(inpu[11])\n",
    "        self.net_type = inpu[12]\n",
    "        self.lac = int(inpu[13])\n",
    "        self.cid = int(inpu[14])\n",
    "        self.psc = int(inpu[15])\n",
    "        self.speed = float(inpu[16])\n",
    "        self.satellites = int(inpu[17])\n",
    "        self.precision1 = int(inpu[18])\n",
    "        self.provider = inpu[19]\n",
    "        self.activity = int(inpu[20])\n",
    "        try:\n",
    "            self.incident = inpu[21]\n",
    "            if len(self.incident) == 0:\n",
    "                self.incident = -1\n",
    "            \n",
    "        except:\n",
    "            self.incident = -1\n",
    "            \n",
    "        try:\n",
    "            self.downloadSpeed = inpu[22]\n",
    "            self.uploadSpeed = inpu[23]\n",
    "            \n",
    "        except:\n",
    "            self.downloadSpeed = -1\n",
    "            self.uploadSpeed = -1\n",
    "        \n",
    "        \n",
    "        \n",
    "    def __str__(self):\n",
    "        '''return the name upon str(object)'''\n",
    "        return str(self.timestamp)\n"
   ]
  },
  {
   "cell_type": "code",
   "execution_count": 4,
   "metadata": {
    "collapsed": false
   },
   "outputs": [],
   "source": [
    "def average_attr(list_of_phones, attr):\n",
    "    \"\"\"averages that attribute in the list\"\"\"\n",
    "    total = 0\n",
    "    n = 0\n",
    "    for x in list_of_phones:\n",
    "        try:\n",
    "            total += float(getattr(x, attr))\n",
    "            n += 1\n",
    "        \n",
    "        except:\n",
    "            pass\n",
    "    \n",
    "    average = total/float(n)\n",
    "\n",
    "    return average\n",
    "    "
   ]
  },
  {
   "cell_type": "code",
   "execution_count": 5,
   "metadata": {
    "collapsed": false
   },
   "outputs": [],
   "source": [
    "def keys_and_incidences(list_of_phones, attr):\n",
    "    \"\"\"finds each key and the nuber of incidences\"\"\"\n",
    "    key_incid = {}\n",
    "    for x in list_of_phones:\n",
    "        label = getattr(x, attr)\n",
    "        try:\n",
    "            key_incid[label] += 1\n",
    "        \n",
    "        except:\n",
    "            key_incid[label] = 1\n",
    "    \n",
    "\n",
    "\n",
    "    return key_incid"
   ]
  },
  {
   "cell_type": "code",
   "execution_count": 16,
   "metadata": {
    "collapsed": false,
    "scrolled": false
   },
   "outputs": [
    {
     "name": "stdout",
     "output_type": "stream",
     "text": [
      "1448865682652\n",
      "0.00389511303859\n"
     ]
    }
   ],
   "source": [
    "unix = \"./data_export_cobercat/data_export_1-2015.csv\"\n",
    "\n",
    "phone_data = open(unix, \"r\")\n",
    "phone_data_reader = csv.reader(phone_data, delimiter=',')\n",
    "phone_data_list = list(phone_data_reader)\n",
    "list_of_phone_data = []\n",
    "error_entries = []\n",
    "\n",
    "for x in phone_data_list[1:]:\n",
    "    try:\n",
    "        y = cell_user(x)\n",
    "        list_of_phone_data.append (y)\n",
    "    except:\n",
    "        error_entries.append(str(x))\n",
    "        \n",
    "        \n",
    "print list_of_phone_data[-1]\n",
    "print len(error_entries)/float(len(list_of_phone_data))"
   ]
  },
  {
   "cell_type": "code",
   "execution_count": 7,
   "metadata": {
    "collapsed": false
   },
   "outputs": [
    {
     "name": "stdout",
     "output_type": "stream",
     "text": [
      "\n",
      "\n",
      "\n",
      "\n",
      "\n"
     ]
    }
   ],
   "source": [
    "for x in list_of_phone_data[-10:-5]:\n",
    "    print x.uploadSpeed"
   ]
  },
  {
   "cell_type": "code",
   "execution_count": 8,
   "metadata": {
    "collapsed": false
   },
   "outputs": [],
   "source": [
    "sum = 0\n",
    "count = 0\n",
    "for x in list_of_phone_data:\n",
    "    sum += float(getattr(x, \"speed\"))\n",
    "    count += 1"
   ]
  },
  {
   "cell_type": "code",
   "execution_count": 9,
   "metadata": {
    "collapsed": false
   },
   "outputs": [
    {
     "name": "stdout",
     "output_type": "stream",
     "text": [
      "26.1372163996\n"
     ]
    }
   ],
   "source": [
    "print sum/count"
   ]
  },
  {
   "cell_type": "code",
   "execution_count": 10,
   "metadata": {
    "collapsed": false
   },
   "outputs": [
    {
     "data": {
      "text/plain": [
       "99612"
      ]
     },
     "execution_count": 10,
     "metadata": {},
     "output_type": "execute_result"
    }
   ],
   "source": [
    "len(list_of_phone_data)"
   ]
  },
  {
   "cell_type": "code",
   "execution_count": 11,
   "metadata": {
    "collapsed": false
   },
   "outputs": [
    {
     "name": "stdout",
     "output_type": "stream",
     "text": [
      "22.2305143959\n"
     ]
    }
   ],
   "source": [
    "print average_attr(list_of_phone_data, \"precision1\")"
   ]
  },
  {
   "cell_type": "code",
   "execution_count": 12,
   "metadata": {
    "collapsed": false
   },
   "outputs": [],
   "source": [
    "k_c= keys_and_incidences(list_of_phone_data,'fullCarrier')"
   ]
  },
  {
   "cell_type": "code",
   "execution_count": 13,
   "metadata": {
    "collapsed": false
   },
   "outputs": [
    {
     "data": {
      "text/plain": [
       "([<matplotlib.axis.XTick at 0x1257522d0>,\n",
       "  <matplotlib.axis.XTick at 0x125752a10>,\n",
       "  <matplotlib.axis.XTick at 0x12579f910>,\n",
       "  <matplotlib.axis.XTick at 0x1271497d0>,\n",
       "  <matplotlib.axis.XTick at 0x127149f10>,\n",
       "  <matplotlib.axis.XTick at 0x12715b690>,\n",
       "  <matplotlib.axis.XTick at 0x12715bdd0>,\n",
       "  <matplotlib.axis.XTick at 0x127163550>,\n",
       "  <matplotlib.axis.XTick at 0x12579f890>,\n",
       "  <matplotlib.axis.XTick at 0x127168590>,\n",
       "  <matplotlib.axis.XTick at 0x127168b50>,\n",
       "  <matplotlib.axis.XTick at 0x1271762d0>,\n",
       "  <matplotlib.axis.XTick at 0x127176a10>,\n",
       "  <matplotlib.axis.XTick at 0x12717f190>,\n",
       "  <matplotlib.axis.XTick at 0x12717f8d0>,\n",
       "  <matplotlib.axis.XTick at 0x12718b050>,\n",
       "  <matplotlib.axis.XTick at 0x12718b790>,\n",
       "  <matplotlib.axis.XTick at 0x12718bed0>,\n",
       "  <matplotlib.axis.XTick at 0x127194650>,\n",
       "  <matplotlib.axis.XTick at 0x127194d90>,\n",
       "  <matplotlib.axis.XTick at 0x12719e510>,\n",
       "  <matplotlib.axis.XTick at 0x12719ec50>,\n",
       "  <matplotlib.axis.XTick at 0x1271a73d0>,\n",
       "  <matplotlib.axis.XTick at 0x1271a7b10>,\n",
       "  <matplotlib.axis.XTick at 0x1271b4290>,\n",
       "  <matplotlib.axis.XTick at 0x1271b49d0>,\n",
       "  <matplotlib.axis.XTick at 0x1271be150>,\n",
       "  <matplotlib.axis.XTick at 0x1271be890>,\n",
       "  <matplotlib.axis.XTick at 0x1271befd0>,\n",
       "  <matplotlib.axis.XTick at 0x1271c7750>],\n",
       " <a list of 30 Text xticklabel objects>)"
      ]
     },
     "execution_count": 13,
     "metadata": {},
     "output_type": "execute_result"
    },
    {
     "data": {
      "image/png": "[encoded data removed]",
      "text/plain": [
       "<matplotlib.figure.Figure at 0x107fc5a90>"
      ]
     },
     "metadata": {},
     "output_type": "display_data"
    }
   ],
   "source": [
    "# plt.plot(k_c)\n",
    "\n",
    "plt.bar(range(len(k_c)), k_c.values(), align='center')\n",
    "plt.xticks(rotation=90)\n",
    "plt.xticks(range(len(k_c)), k_c.keys())\n",
    "\n"
   ]
  },
  {
   "cell_type": "code",
   "execution_count": 14,
   "metadata": {
    "collapsed": false
   },
   "outputs": [
    {
     "name": "stdout",
     "output_type": "stream",
     "text": [
      "<built-in method values of dict object at 0x107face88>\n"
     ]
    }
   ],
   "source": [
    "print (k_c.values)\n",
    "\n"
   ]
  },
  {
   "cell_type": "code",
   "execution_count": null,
   "metadata": {
    "collapsed": true
   },
   "outputs": [],
   "source": []
  }
 ],
 "metadata": {
  "kernelspec": {
   "display_name": "Python 2",
   "language": "python",
   "name": "python2"
  },
  "language_info": {
   "codemirror_mode": {
    "name": "ipython",
    "version": 2
   },
   "file_extension": ".py",
   "mimetype": "text/x-python",
   "name": "python",
   "nbconvert_exporter": "python",
   "pygments_lexer": "ipython2",
   "version": "2.7.11"
  }
 },
 "nbformat": 4,
 "nbformat_minor": 0
}
