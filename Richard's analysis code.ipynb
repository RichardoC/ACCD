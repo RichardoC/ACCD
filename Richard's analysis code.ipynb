{
 "cells": [
  {
   "cell_type": "code",
   "execution_count": 1,
   "metadata": {
    "collapsed": false
   },
   "outputs": [],
   "source": [
    "import numpy as np\n",
    "import csv\n",
    "import glob\n",
    "from datetime import datetime\n",
    "import matplotlib.pyplot as plt\n",
    "\n",
    "%matplotlib inline\n",
    "#inline\n",
    "plt.rcParams['figure.figsize'] = [14, 8]\n",
    "\n",
    "from os import listdir\n",
    "        \n",
    "# content = content.decode('utf-8')         \n",
    "\n",
    "\n",
    "\n",
    "# test_data = np.genfromtxt('./data_export_cobercat/data_export_1-2015.csv',skip_header=1,delimiter=',', dtype=None, names=['timestamp','date','lat','lng','signal_inst','signal_min','signal_max','signal_avg','carrier','fullCarrier','status','net','net_type','lac','cid','psc','speed,satellites','precision1','provider','activity','incident','downloadSpeed','uploadSpeed'],filling_values=(-1))\n",
    "#data location\n",
    "# unix = \"./data_export_cobercat/data_export_1-2015.csv\""
   ]
  },
  {
   "cell_type": "code",
   "execution_count": 2,
   "metadata": {
    "collapsed": true
   },
   "outputs": [],
   "source": [
    "class cell_user:\n",
    "    '''Holds data for each user'''\n",
    "    \n",
    "    def __init__(self, inpu):\n",
    "        self.timestamp = int(inpu[0])\n",
    "#         self.date = inpu[1]\n",
    "#         self.datetime = datetime.strptime(self.date, '%Y-%m-%d %H:%M:%S.%f')\n",
    "#         self.datetime = datetime(self.timestamp)\n",
    "        try:\n",
    "            self.datetime = datetime.fromtimestamp(self.timestamp/1000.0)\n",
    "        except:\n",
    "            pass\n",
    "        self.timestampt = None\n",
    "\n",
    "        self.lat = float(inpu[2])\n",
    "        self.lng = float(inpu[3])\n",
    "        self.signal_inst = bytes(inpu[4])\n",
    "        self.signal_min = bytes(inpu[5])\n",
    "        self.signal_max = bytes(inpu[6])\n",
    "        self.signal_avg = bytes(inpu[7])\n",
    "        self.carrier = unicode(inpu[8])\n",
    "        self.fullCarrier = unicode(inpu[9])\n",
    "        self.status = bytes(inpu[10])\n",
    "            \n",
    "#         self.status = int(inpu[10])\n",
    "        self.net = bytes(inpu[11])\n",
    "        self.net_type = inpu[12]\n",
    "        self.lac = bytes(float(inpu[13]))\n",
    "        self.cid = int(float(inpu[14]))\n",
    "        self.psc = int(inpu[15])\n",
    "        self.speed = float(inpu[16])\n",
    "        self.satellites = bytes(inpu[17])\n",
    "        self.precision1 = bytes(inpu[18])\n",
    "        self.provider = inpu[19]\n",
    "        self.activity = bytes(inpu[20])\n",
    "        try:\n",
    "            self.incident = inpu[21]\n",
    "            if len(self.incident) == 0:\n",
    "                self.incident = -1\n",
    "            \n",
    "        except:\n",
    "            self.incident = -1\n",
    "            \n",
    "        try:\n",
    "            self.downloadSpeed = inpu[22]\n",
    "            self.uploadSpeed = inpu[23]\n",
    "            \n",
    "        except:\n",
    "            self.downloadSpeed = -1\n",
    "            self.uploadSpeed = -1\n",
    "        \n",
    "        \n",
    "        \n",
    "    def __str__(self):\n",
    "        '''return the name upon str(object)'''\n",
    "        return str(self.timestamp)\n"
   ]
  },
  {
   "cell_type": "code",
   "execution_count": 3,
   "metadata": {
    "collapsed": false
   },
   "outputs": [],
   "source": [
    "def average_attr(list_of_phones, attr):\n",
    "    \"\"\"averages that attribute in the list\"\"\"\n",
    "    total = 0\n",
    "    n = 0\n",
    "    for x in list_of_phones:\n",
    "#         try:\n",
    "            attrStr = 'x.'+attr\n",
    "            total += float(eval(attrStr))\n",
    "            n += 1\n",
    "        \n",
    "#         except:\n",
    "#             pass\n",
    "    \n",
    "    average = total/float(n)\n",
    "\n",
    "    return average\n",
    "    "
   ]
  },
  {
   "cell_type": "code",
   "execution_count": 4,
   "metadata": {
    "collapsed": false
   },
   "outputs": [],
   "source": [
    "def keys_and_incidences(list_of_phones, attr):\n",
    "    \"\"\"finds each key and the number of incidences\"\"\"\n",
    "    key_incid = {}\n",
    "    for x in list_of_phones:\n",
    "        strEval = 'x.'+attr\n",
    "        label = eval(strEval)\n",
    "        try:\n",
    "            key_incid[label] += 1\n",
    "        \n",
    "        except:\n",
    "            key_incid[label] = 1\n",
    "    \n",
    "\n",
    "\n",
    "    return key_incid"
   ]
  },
  {
   "cell_type": "code",
   "execution_count": 5,
   "metadata": {
    "collapsed": false
   },
   "outputs": [],
   "source": [
    "def just_values(list_of_phones, attr):\n",
    "    \"\"\"finds each key and the number of incidences\"\"\"\n",
    "    values = []\n",
    "    for x in list_of_phones:\n",
    "        strEval = 'x.'+attr\n",
    "        value = eval(strEval)\n",
    "        values.append(value)\n",
    "    \n",
    "\n",
    "\n",
    "    return values"
   ]
  },
  {
   "cell_type": "code",
   "execution_count": 6,
   "metadata": {
    "collapsed": true
   },
   "outputs": [],
   "source": [
    "def plot_bars(list_of_phones, attr,minimum = 0):\n",
    "    \"\"\"Plots each key with the number of incidences\"\"\"\n",
    "    \n",
    "    k_c = keys_and_incidences(list_of_phones, attr)\n",
    "    k_c_cropped = {}\n",
    "    for x in k_c.keys():\n",
    "        if k_c[x] > minimum:\n",
    "            k_c_cropped[x] = k_c[x]\n",
    "    plt.bar(range(len(k_c_cropped)), k_c_cropped.values(), align='center')\n",
    "    plt.xticks(rotation=90)\n",
    "    plt.xticks(range(len(k_c_cropped)), k_c_cropped.keys())\n",
    "    title = \"Breakdown of \"+str(attr)\n",
    "    plt.title(title)\n",
    "    plt.xlabel(\"Labels\")\n",
    "    plt.ylabel(\"Frequency\")\n",
    "    plt.show()"
   ]
  },
  {
   "cell_type": "code",
   "execution_count": 7,
   "metadata": {
    "collapsed": true
   },
   "outputs": [],
   "source": [
    "def plot_hist(list_of_phones, attr):\n",
    "    \"\"\"Plots a histogram for that attribute\"\"\"\n",
    "    \n",
    "#     k_c = keys_and_incidences(list_of_phones, attr)\n",
    "    values = just_values(list_of_phones,attr)\n",
    "    \n",
    "    n, bins, patches = plt.hist(values, 50, facecolor='green', alpha=0.75) #, normed=1\n",
    "    \n",
    "#     plt.bar(range(len(k_c)), k_c.values(), align='center')\n",
    "#     plt.xticks(rotation=90)\n",
    "#     plt.xticks(range(len(k_c)), k_c.keys())\n",
    "    title = \"Breakdown of \"+str(attr)\n",
    "    plt.title(title)\n",
    "    xlab = \"Value of \"+attr\n",
    "    plt.xlabel(xlab)\n",
    "    plt.ylabel(\"Frequency\")\n",
    "    plt.show()"
   ]
  },
  {
   "cell_type": "code",
   "execution_count": 8,
   "metadata": {
    "collapsed": false
   },
   "outputs": [],
   "source": [
    "def import_all_data(folder,pollingRate = 0):\n",
    "    \"\"\"Imports all the data from the folder\"\"\"\n",
    "    searchTerm = folder + \"*.csv\"\n",
    "    files = glob.glob(searchTerm)\n",
    "    \n",
    "    list_of_phone_data = []\n",
    "    error_entries = []\n",
    "    number_of_original_entries = 0\n",
    "    \n",
    "    for fil in files:\n",
    "        phone_data = open(fil, \"r\")\n",
    "        phone_data_reader = csv.reader(phone_data, delimiter=',')\n",
    "        phone_data_list = list(phone_data_reader)\n",
    "        print fil\n",
    "#         print len(list_of_phone_data)\n",
    "\n",
    "        for x in phone_data_list[1:]:\n",
    "            try:\n",
    "                number_of_original_entries+= 1\n",
    "                if pollingRate != 0:\n",
    "                    if (number_of_original_entries%pollingRate) == 0:\n",
    "                        y = cell_user(x)\n",
    "                        list_of_phone_data.append (y)\n",
    "                        \n",
    "                else:\n",
    "                    y = cell_user(x)\n",
    "                    list_of_phone_data.append (y)    \n",
    "                    \n",
    "                    \n",
    "#                 if len(list_of_phone_data)%100000 == 0:\n",
    "#                     print y.date\n",
    "#                     print y.datetime\n",
    "            except:\n",
    "                error_entries.append(str(x))\n",
    "                \n",
    "                \n",
    "        phone_data.close()\n",
    "                \n",
    "    print \"Total valid entries: \" , len(list_of_phone_data)\n",
    "    print \"Ratio of invalid entries:\" , len(error_entries)/float(len(list_of_phone_data))\n",
    "    \n",
    "    return list_of_phone_data,error_entries"
   ]
  },
  {
   "cell_type": "code",
   "execution_count": 9,
   "metadata": {
    "collapsed": false,
    "scrolled": false
   },
   "outputs": [],
   "source": [
    "# unix = \"./data_export_cobercat/data_export_1-2015.csv\"\n",
    "\n",
    "# phone_data = open(unix, \"r\")\n",
    "# phone_data_reader = csv.reader(phone_data, delimiter=',')\n",
    "# phone_data_list = list(phone_data_reader)\n",
    "# list_of_phone_data = []\n",
    "# error_entries = []\n",
    "\n",
    "# for x in phone_data_list[1:]:\n",
    "#     try:\n",
    "#         y = cell_user(x)\n",
    "#         list_of_phone_data.append (y)\n",
    "#     except:\n",
    "#         error_entries.append(str(x))\n",
    "        \n",
    "# phone_data.close()        \n",
    "# print list_of_phone_data[-1]\n",
    "# print len(error_entries)/float(len(list_of_phone_data))"
   ]
  },
  {
   "cell_type": "code",
   "execution_count": 10,
   "metadata": {
    "collapsed": false
   },
   "outputs": [],
   "source": [
    "# for x in list_of_phone_data[-10:-5]:\n",
    "#     print x.uploadSpeed"
   ]
  },
  {
   "cell_type": "code",
   "execution_count": 11,
   "metadata": {
    "collapsed": false
   },
   "outputs": [],
   "source": [
    "# sum = 0\n",
    "# count = 0\n",
    "# for x in list_of_phone_data:\n",
    "#     sum += float(getattr(x, \"speed\"))\n",
    "#     count += 1"
   ]
  },
  {
   "cell_type": "code",
   "execution_count": 12,
   "metadata": {
    "collapsed": false
   },
   "outputs": [],
   "source": [
    "# print sum/count"
   ]
  },
  {
   "cell_type": "code",
   "execution_count": 13,
   "metadata": {
    "collapsed": false
   },
   "outputs": [],
   "source": [
    "# len(list_of_phone_data)"
   ]
  },
  {
   "cell_type": "code",
   "execution_count": 14,
   "metadata": {
    "collapsed": false
   },
   "outputs": [],
   "source": [
    "# print average_attr(list_of_phone_data, \"precision1\")"
   ]
  },
  {
   "cell_type": "code",
   "execution_count": 15,
   "metadata": {
    "collapsed": false
   },
   "outputs": [],
   "source": [
    "# k_c= keys_and_incidences(list_of_phone_data,'fullCarrier')"
   ]
  },
  {
   "cell_type": "code",
   "execution_count": 16,
   "metadata": {
    "collapsed": false
   },
   "outputs": [],
   "source": [
    "# # plt.plot(k_c)\n",
    "\n",
    "# plt.bar(range(len(k_c)), k_c.values(), align='center')\n",
    "# plt.xticks(rotation=90)\n",
    "# plt.xticks(range(len(k_c)), k_c.keys())\n",
    "\n"
   ]
  },
  {
   "cell_type": "code",
   "execution_count": 17,
   "metadata": {
    "collapsed": false
   },
   "outputs": [],
   "source": [
    "# print (k_c.values)\n",
    "\n"
   ]
  },
  {
   "cell_type": "code",
   "execution_count": 18,
   "metadata": {
    "collapsed": false
   },
   "outputs": [],
   "source": [
    "# plot_bars(list_of_phone_data,'carrier')\n",
    "# plot_bars(list_of_phone_data,'fullCarrier')\n"
   ]
  },
  {
   "cell_type": "code",
   "execution_count": 19,
   "metadata": {
    "collapsed": false
   },
   "outputs": [],
   "source": [
    "# plot_bars(list_of_phone_data,'net_type')\n"
   ]
  },
  {
   "cell_type": "code",
   "execution_count": 9,
   "metadata": {
    "collapsed": false
   },
   "outputs": [
    {
     "name": "stdout",
     "output_type": "stream",
     "text": [
      "./data_export_cobercat/data_export_01-2015.csv\n",
      "./data_export_cobercat/data_export_01-2016.csv\n",
      "./data_export_cobercat/data_export_02-2015.csv\n",
      "./data_export_cobercat/data_export_02-2016.csv\n",
      "./data_export_cobercat/data_export_03-2015.csv\n",
      "./data_export_cobercat/data_export_03-2016.csv\n",
      "./data_export_cobercat/data_export_04-2015.csv\n",
      "./data_export_cobercat/data_export_04-2016.csv\n",
      "./data_export_cobercat/data_export_05-2015.csv\n",
      "./data_export_cobercat/data_export_05-2016.csv\n",
      "./data_export_cobercat/data_export_06-2015.csv\n",
      "./data_export_cobercat/data_export_06-2016.csv\n",
      "./data_export_cobercat/data_export_07-2015.csv\n",
      "./data_export_cobercat/data_export_07-2016.csv\n",
      "./data_export_cobercat/data_export_08-2015.csv\n",
      "./data_export_cobercat/data_export_08-2016.csv\n",
      "./data_export_cobercat/data_export_09-2015.csv\n",
      "./data_export_cobercat/data_export_09-2016.csv\n",
      "./data_export_cobercat/data_export_1-2015.csv\n",
      "./data_export_cobercat/data_export_10-2015.csv\n",
      "./data_export_cobercat/data_export_11-2015.csv\n",
      "./data_export_cobercat/data_export_12-2015.csv\n",
      "Total valid entries:  4830363\n",
      "Ratio of invalid entries: 0.000349042090625\n"
     ]
    }
   ],
   "source": [
    "all_data = import_all_data(\"./data_export_cobercat/\", pollingRate= 2)[0]"
   ]
  },
  {
   "cell_type": "code",
   "execution_count": 14,
   "metadata": {
    "collapsed": false
   },
   "outputs": [
    {
     "data": {
      "image/png": "[encoded data removed]",
      "text/plain": [
       "<matplotlib.figure.Figure at 0x2ae433690>"
      ]
     },
     "metadata": {},
     "output_type": "display_data"
    }
   ],
   "source": [
    "plot_bars(all_data,'fullCarrier', minimum=1000)\n"
   ]
  },
  {
   "cell_type": "code",
   "execution_count": 22,
   "metadata": {
    "collapsed": false
   },
   "outputs": [
    {
     "name": "stdout",
     "output_type": "stream",
     "text": [
      "9645409\n"
     ]
    }
   ],
   "source": [
    "print len(all_data)"
   ]
  },
  {
   "cell_type": "code",
   "execution_count": 23,
   "metadata": {
    "collapsed": false
   },
   "outputs": [
    {
     "data": {
      "text/plain": [
       "26.674018768805475"
      ]
     },
     "execution_count": 23,
     "metadata": {},
     "output_type": "execute_result"
    }
   ],
   "source": [
    "average_attr(all_data, \"speed\")"
   ]
  },
  {
   "cell_type": "code",
   "execution_count": 24,
   "metadata": {
    "collapsed": false
   },
   "outputs": [
    {
     "data": {
      "image/png": "[encoded data removed]",
      "text/plain": [
       "<matplotlib.figure.Figure at 0x819ca89d0>"
      ]
     },
     "metadata": {},
     "output_type": "display_data"
    }
   ],
   "source": [
    "plot_bars(all_data, \"activity\")"
   ]
  },
  {
   "cell_type": "code",
   "execution_count": 17,
   "metadata": {
    "collapsed": false
   },
   "outputs": [
    {
     "data": {
      "image/png": "[encoded data removed]",
      "text/plain": [
       "<matplotlib.figure.Figure at 0x1801f8790>"
      ]
     },
     "metadata": {},
     "output_type": "display_data"
    }
   ],
   "source": [
    "plot_bars(all_data,'net_type')"
   ]
  },
  {
   "cell_type": "code",
   "execution_count": 26,
   "metadata": {
    "collapsed": false
   },
   "outputs": [],
   "source": [
    "# plot_bars(list_of_phone_data,'net_type')"
   ]
  },
  {
   "cell_type": "code",
   "execution_count": 27,
   "metadata": {
    "collapsed": false
   },
   "outputs": [],
   "source": [
    "# Next is to filter by data/maybe \n",
    "# n, bins, patches = plt.hist(all_data, 50, normed=1, facecolor='green', alpha=0.75)"
   ]
  },
  {
   "cell_type": "code",
   "execution_count": 28,
   "metadata": {
    "collapsed": false
   },
   "outputs": [],
   "source": [
    "# plt.close()\n",
    "# plot_hist(list_of_phone_data,'speed')\n"
   ]
  },
  {
   "cell_type": "code",
   "execution_count": 29,
   "metadata": {
    "collapsed": false
   },
   "outputs": [
    {
     "name": "stdout",
     "output_type": "stream",
     "text": [
      "2015-12-05 00:00:25.000000\n"
     ]
    }
   ],
   "source": [
    "print all_data[-1].date"
   ]
  },
  {
   "cell_type": "code",
   "execution_count": 30,
   "metadata": {
    "collapsed": false
   },
   "outputs": [],
   "source": [
    "# date_datetime = datetime.strptime(all_data[1].date, '%Y-%m-%d %H:%M:%S.%f')\n",
    "# print date_datetime.timetuple()"
   ]
  },
  {
   "cell_type": "code",
   "execution_count": 31,
   "metadata": {
    "collapsed": false
   },
   "outputs": [
    {
     "name": "stdout",
     "output_type": "stream",
     "text": [
      "25\n"
     ]
    }
   ],
   "source": [
    "# print average_attr(all_data,'datetime')\n",
    "print datetime.strftime(all_data[-1].datetime,'%S')"
   ]
  },
  {
   "cell_type": "code",
   "execution_count": 15,
   "metadata": {
    "collapsed": false
   },
   "outputs": [
    {
     "data": {
      "image/png": "[encoded data removed]",
      "text/plain": [
       "<matplotlib.figure.Figure at 0x2abf2b090>"
      ]
     },
     "metadata": {},
     "output_type": "display_data"
    }
   ],
   "source": [
    "plot_hist(all_data,'datetime.month')"
   ]
  },
  {
   "cell_type": "code",
   "execution_count": null,
   "metadata": {
    "collapsed": false
   },
   "outputs": [],
   "source": [
    "print all_data[-15000].date"
   ]
  },
  {
   "cell_type": "code",
   "execution_count": 16,
   "metadata": {
    "collapsed": false
   },
   "outputs": [
    {
     "data": {
      "image/png": "[encoded data removed]",
      "text/plain": [
       "<matplotlib.figure.Figure at 0x1818df690>"
      ]
     },
     "metadata": {},
     "output_type": "display_data"
    },
    {
     "data": {
      "image/png": "[encoded data removed]",
      "text/plain": [
       "<matplotlib.figure.Figure at 0x180359fd0>"
      ]
     },
     "metadata": {},
     "output_type": "display_data"
    },
    {
     "data": {
      "image/png": "[encoded data removed]",
      "text/plain": [
       "<matplotlib.figure.Figure at 0x1800009d0>"
      ]
     },
     "metadata": {},
     "output_type": "display_data"
    }
   ],
   "source": [
    "plot_bars(all_data,'datetime.day')\n",
    "plot_bars(all_data,'datetime.month')\n",
    "plot_bars(all_data,'datetime.year')\n",
    "\n"
   ]
  },
  {
   "cell_type": "code",
   "execution_count": null,
   "metadata": {
    "collapsed": false,
    "scrolled": false
   },
   "outputs": [],
   "source": [
    "plot_bars(all_data,'datetime.hour')\n",
    "plot_bars(all_data,'datetime.minute')\n"
   ]
  },
  {
   "cell_type": "code",
   "execution_count": null,
   "metadata": {
    "collapsed": false
   },
   "outputs": [],
   "source": [
    "print average_attr(all_data,'datetime.hour')"
   ]
  },
  {
   "cell_type": "code",
   "execution_count": null,
   "metadata": {
    "collapsed": false
   },
   "outputs": [],
   "source": [
    "print 13.0752419387-12"
   ]
  },
  {
   "cell_type": "code",
   "execution_count": null,
   "metadata": {
    "collapsed": false
   },
   "outputs": [],
   "source": [
    "print average_attr(all_data,'signal_avg')\n",
    "print average_attr(all_data,'signal_min')\n",
    "print average_attr(all_data,'signal_max')\n",
    "\n"
   ]
  },
  {
   "cell_type": "code",
   "execution_count": null,
   "metadata": {
    "collapsed": false
   },
   "outputs": [],
   "source": [
    "print average_attr(all_data,'satellites')"
   ]
  },
  {
   "cell_type": "code",
   "execution_count": null,
   "metadata": {
    "collapsed": true
   },
   "outputs": [],
   "source": []
  }
 ],
 "metadata": {
  "kernelspec": {
   "display_name": "Python 2",
   "language": "python",
   "name": "python2"
  },
  "language_info": {
   "codemirror_mode": {
    "name": "ipython",
    "version": 2
   },
   "file_extension": ".py",
   "mimetype": "text/x-python",
   "name": "python",
   "nbconvert_exporter": "python",
   "pygments_lexer": "ipython2",
   "version": "2.7.11"
  }
 },
 "nbformat": 4,
 "nbformat_minor": 0
}
