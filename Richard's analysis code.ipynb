{
 "cells": [
  {
   "cell_type": "code",
   "execution_count": 14,
   "metadata": {
    "collapsed": false
   },
   "outputs": [],
   "source": [
    "import numpy as np\n",
    "import csv\n",
    "\n",
    "import matplotlib.pyplot as plt\n",
    "%matplotlib inline\n",
    "plt.rcParams['figure.figsize'] = [10, 8]\n",
    "\n",
    "from os import listdir\n",
    "        \n",
    "        \n",
    "\n",
    "\n",
    "\n",
    "# test_data = np.genfromtxt('./data_export_cobercat/data_export_1-2015.csv',skip_header=1,delimiter=',', dtype=None, names=['timestamp','date','lat','lng','signal_inst','signal_min','signal_max','signal_avg','carrier','fullCarrier','status','net','net_type','lac','cid','psc','speed,satellites','precision1','provider','activity','incident','downloadSpeed','uploadSpeed'],filling_values=(-1))"
   ]
  },
  {
   "cell_type": "code",
   "execution_count": 54,
   "metadata": {
    "collapsed": true
   },
   "outputs": [],
   "source": [
    "class cell_user:\n",
    "    '''Holds data for each user'''\n",
    "    \n",
    "    def __init__(self, inpu):\n",
    "        self.timestamp = int(inpu[0])\n",
    "        self.date = inpu[1]\n",
    "        self.lat = float(inpu[2])\n",
    "        self.lng = float(inpu[3])\n",
    "        self.signal_inst = int(inpu[4])\n",
    "        self.signal_min = int(inpu[5])\n",
    "        self.signal_max = int(inpu[6])\n",
    "        self.signal_avg = int(inpu[7])\n",
    "        self.carrier = inpu[8]\n",
    "        self.fullCarrier = inpu[9]\n",
    "        self.status = int(inpu[10])\n",
    "            \n",
    "#         self.status = int(inpu[10])\n",
    "        self.net = int(inpu[11])\n",
    "        self.net_type = inpu[12]\n",
    "        self.lac = int(inpu[13])\n",
    "        self.cid = int(inpu[14])\n",
    "        self.psc = int(inpu[15])\n",
    "        self.speed = float(inpu[16])\n",
    "        self.satellites = int(inpu[17])\n",
    "        self.precision1 = int(inpu[18])\n",
    "        self.provider = inpu[19]\n",
    "        self.activity = int(inpu[20])\n",
    "        try:\n",
    "            self.incident = inpu[21]\n",
    "            if len(self.incident) == 0:\n",
    "                self.incident = -1\n",
    "            \n",
    "        except:\n",
    "            self.incident = -1\n",
    "            \n",
    "        try:\n",
    "            self.downloadSpeed = inpu[22]\n",
    "            self.uploadSpeed = inpu[23]\n",
    "            \n",
    "        except:\n",
    "            self.downloadSpeed = -1\n",
    "            self.uploadSpeed = -1\n",
    "        \n",
    "        \n",
    "        \n",
    "    def __str__(self):\n",
    "        '''return the name upon str(object)'''\n",
    "        return str(self.timestamp)\n"
   ]
  },
  {
   "cell_type": "code",
   "execution_count": 63,
   "metadata": {
    "collapsed": false
   },
   "outputs": [],
   "source": [
    "def average_attr(list_of_phones, attr):\n",
    "    \"\"\"averages that attribute in the list\"\"\"\n",
    "    total = 0\n",
    "    n = 0\n",
    "    for x in list_of_phones:\n",
    "        try:\n",
    "            total += float(getattr(x, attr))\n",
    "            n += 1\n",
    "        \n",
    "        except:\n",
    "            pass\n",
    "    \n",
    "    average = total/float(n)\n",
    "\n",
    "    return average\n",
    "    "
   ]
  },
  {
   "cell_type": "code",
   "execution_count": 62,
   "metadata": {
    "collapsed": false,
    "scrolled": false
   },
   "outputs": [
    {
     "name": "stdout",
     "output_type": "stream",
     "text": [
      "1448865682652\n"
     ]
    }
   ],
   "source": [
    "unix = \"./data_export_cobercat/data_export_1-2015.csv\"\n",
    "\n",
    "phone_data = open(unix, \"r\")\n",
    "phone_data_reader = csv.reader(phone_data, delimiter=',')\n",
    "phone_data_list = list(phone_data_reader)\n",
    "list_of_phone_data = []\n",
    "error_entries = []\n",
    "\n",
    "for x in phone_data_list[1:]:\n",
    "    try:\n",
    "        y = cell_user(x)\n",
    "        list_of_phone_data.append (y)\n",
    "    except:\n",
    "        error_entries.append(str(x))\n",
    "        \n",
    "        \n",
    "print list_of_phone_data[-1]"
   ]
  },
  {
   "cell_type": "code",
   "execution_count": 51,
   "metadata": {
    "collapsed": false
   },
   "outputs": [
    {
     "name": "stdout",
     "output_type": "stream",
     "text": [
      "\n",
      "\n",
      "\n",
      "\n",
      "\n"
     ]
    }
   ],
   "source": [
    "for x in list_of_phone_data[-10:-5]:\n",
    "    print x.uploadSpeed"
   ]
  },
  {
   "cell_type": "code",
   "execution_count": 52,
   "metadata": {
    "collapsed": false
   },
   "outputs": [],
   "source": [
    "sum = 0\n",
    "count = 0\n",
    "for x in list_of_phone_data:\n",
    "    sum += float(getattr(x, \"speed\"))\n",
    "    count += 1"
   ]
  },
  {
   "cell_type": "code",
   "execution_count": 53,
   "metadata": {
    "collapsed": false
   },
   "outputs": [
    {
     "name": "stdout",
     "output_type": "stream",
     "text": [
      "26.1284117812\n"
     ]
    }
   ],
   "source": [
    "print sum/count"
   ]
  },
  {
   "cell_type": "code",
   "execution_count": 64,
   "metadata": {
    "collapsed": false
   },
   "outputs": [
    {
     "name": "stdout",
     "output_type": "stream",
     "text": [
      "26.1284117812\n"
     ]
    }
   ],
   "source": [
    "print average_attr(list_of_phone_data, \"speed\")"
   ]
  },
  {
   "cell_type": "code",
   "execution_count": null,
   "metadata": {
    "collapsed": true
   },
   "outputs": [],
   "source": []
  }
 ],
 "metadata": {
  "kernelspec": {
   "display_name": "Python 2",
   "language": "python",
   "name": "python2"
  },
  "language_info": {
   "codemirror_mode": {
    "name": "ipython",
    "version": 2
   },
   "file_extension": ".py",
   "mimetype": "text/x-python",
   "name": "python",
   "nbconvert_exporter": "python",
   "pygments_lexer": "ipython2",
   "version": "2.7.11"
  }
 },
 "nbformat": 4,
 "nbformat_minor": 0
}
