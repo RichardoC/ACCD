{
 "cells": [
  {
   "cell_type": "code",
   "execution_count": 14,
   "metadata": {
    "collapsed": false
   },
   "outputs": [],
   "source": [
    "import numpy as np\n",
    "import csv\n",
    "\n",
    "import matplotlib.pyplot as plt\n",
    "%matplotlib inline\n",
    "plt.rcParams['figure.figsize'] = [10, 8]\n",
    "\n",
    "from os import listdir\n",
    "        \n",
    "        \n",
    "\n",
    "\n",
    "\n",
    "# test_data = np.genfromtxt('./data_export_cobercat/data_export_1-2015.csv',skip_header=1,delimiter=',', dtype=None, names=['timestamp','date','lat','lng','signal_inst','signal_min','signal_max','signal_avg','carrier','fullCarrier','status','net','net_type','lac','cid','psc','speed,satellites','precision1','provider','activity','incident','downloadSpeed','uploadSpeed'],filling_values=(-1))"
   ]
  },
  {
   "cell_type": "code",
   "execution_count": 30,
   "metadata": {
    "collapsed": true
   },
   "outputs": [],
   "source": [
    "class cell_user:\n",
    "    '''Holds data for each user'''\n",
    "    \n",
    "    def __init__(self, inpu):\n",
    "        self.timestamp = inpu[0]\n",
    "        self.date = inpu[1]\n",
    "        self.lat = inpu[3]\n",
    "        self.lng = inpu[4]\n",
    "        self.signal_inst = inpu[5]\n",
    "        self.signal_min = inpu[6]\n",
    "        self.signal_max = inpu[7]\n",
    "        self.signal_avg = inpu[8]\n",
    "        self.carrier = inpu[9]\n",
    "        self.fullCarrier = inpu[10]\n",
    "        self.status = inpu[11]\n",
    "        self.net = inpu[12]\n",
    "        self.net_type = inpu[13]\n",
    "        self.lac = inpu[14]\n",
    "        self.cid = inpu[15]\n",
    "        self.psc = inpu[16]\n",
    "        self.speed = inpu[17]\n",
    "        self.satellites = inpu[18]\n",
    "        self.precision1 = inpu[19]\n",
    "        self.provider = inpu[20]\n",
    "        self.activity = inpu[21]\n",
    "        try:\n",
    "            self.incident = inpu[22]\n",
    "            if len(lenself.incident) == 0:\n",
    "                self.incident = -1\n",
    "            \n",
    "        except:\n",
    "            self.incident = -1\n",
    "            \n",
    "        try:\n",
    "            self.downloadSpeed = inpu[23]\n",
    "            self.uploadSpeed = inpu[24]\n",
    "            \n",
    "        except:\n",
    "            self.downloadSpeed = -1\n",
    "            self.uploadSpeed = -1\n",
    "        \n",
    "        \n",
    "        \n",
    "    def __str__(self):\n",
    "        '''return the name upon str(object)'''\n",
    "        return str(self.timestamp)\n"
   ]
  },
  {
   "cell_type": "code",
   "execution_count": 31,
   "metadata": {
    "collapsed": false
   },
   "outputs": [
    {
     "name": "stdout",
     "output_type": "stream",
     "text": [
      "1448865682652\n"
     ]
    }
   ],
   "source": [
    "unix = \"./data_export_cobercat/data_export_1-2015.csv\"\n",
    "\n",
    "phone_data = open(unix, \"r\")\n",
    "phone_data_reader = csv.reader(phone_data, delimiter=',')\n",
    "phone_data_list = list(phone_data_reader)\n",
    "list_of_phone_data = []\n",
    "\n",
    "\n",
    "for x in phone_data_list[1:]:\n",
    "\n",
    "    y = cell_user(x)\n",
    "    list_of_phone_data.append (y)\n",
    "print list_of_phone_data[-1]"
   ]
  },
  {
   "cell_type": "code",
   "execution_count": 35,
   "metadata": {
    "collapsed": false
   },
   "outputs": [
    {
     "name": "stdout",
     "output_type": "stream",
     "text": [
      "-1\n",
      "-1\n",
      "-1\n",
      "-1\n",
      "-1\n"
     ]
    }
   ],
   "source": [
    "for x in list_of_phone_data[-10:-5]:\n",
    "    print x.uploadSpeed"
   ]
  },
  {
   "cell_type": "code",
   "execution_count": null,
   "metadata": {
    "collapsed": true
   },
   "outputs": [],
   "source": []
  }
 ],
 "metadata": {
  "kernelspec": {
   "display_name": "Python 2",
   "language": "python",
   "name": "python2"
  },
  "language_info": {
   "codemirror_mode": {
    "name": "ipython",
    "version": 2
   },
   "file_extension": ".py",
   "mimetype": "text/x-python",
   "name": "python",
   "nbconvert_exporter": "python",
   "pygments_lexer": "ipython2",
   "version": "2.7.11"
  }
 },
 "nbformat": 4,
 "nbformat_minor": 0
}
