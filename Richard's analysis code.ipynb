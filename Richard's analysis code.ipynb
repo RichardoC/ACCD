{
 "cells": [
  {
   "cell_type": "code",
   "execution_count": 1,
   "metadata": {
    "collapsed": false
   },
   "outputs": [],
   "source": [
    "import numpy as np\n",
    "import csv\n",
    "import glob\n",
    "from datetime import datetime\n",
    "import matplotlib.pyplot as plt\n",
    "\n",
    "%matplotlib inline\n",
    "#inline\n",
    "plt.rcParams['figure.figsize'] = [14, 8]\n",
    "\n",
    "from os import listdir\n",
    "        \n",
    "# content = content.decode('utf-8')         \n",
    "\n",
    "\n",
    "\n",
    "# test_data = np.genfromtxt('./data_export_cobercat/data_export_1-2015.csv',skip_header=1,delimiter=',', dtype=None, names=['timestamp','date','lat','lng','signal_inst','signal_min','signal_max','signal_avg','carrier','fullCarrier','status','net','net_type','lac','cid','psc','speed,satellites','precision1','provider','activity','incident','downloadSpeed','uploadSpeed'],filling_values=(-1))\n",
    "#data location\n",
    "# unix = \"./data_export_cobercat/data_export_1-2015.csv\""
   ]
  },
  {
   "cell_type": "code",
   "execution_count": 2,
   "metadata": {
    "collapsed": true
   },
   "outputs": [],
   "source": [
    "class cell_user:\n",
    "    '''Holds data for each user'''\n",
    "    \n",
    "    def __init__(self, inpu):\n",
    "        self.timestamp = int(inpu[0])\n",
    "#         self.date = inpu[1]\n",
    "#         self.datetime = datetime.strptime(self.date, '%Y-%m-%d %H:%M:%S.%f')\n",
    "#         self.datetime = datetime(self.timestamp)\n",
    "        try:\n",
    "            self.datetime = datetime.fromtimestamp(self.timestamp/1000.0)\n",
    "        except:\n",
    "            pass\n",
    "        del self.timestamp\n",
    "        self.lat = float(inpu[2])\n",
    "        self.lng = float(inpu[3])\n",
    "        self.signal_inst = int(inpu[4])\n",
    "        self.signal_min = int(inpu[5])\n",
    "        self.signal_max = int(inpu[6])\n",
    "        self.signal_avg = int(inpu[7])\n",
    "        self.carrier = unicode(inpu[8])\n",
    "        self.fullCarrier = unicode(inpu[9])\n",
    "        self.status = int(inpu[10])\n",
    "            \n",
    "#         self.status = int(inpu[10])\n",
    "        self.net = int(inpu[11])\n",
    "        self.net_type = inpu[12]\n",
    "        self.lac = int(inpu[13])\n",
    "        self.cid = int(inpu[14])\n",
    "        self.psc = int(inpu[15])\n",
    "        self.speed = float(inpu[16])\n",
    "        self.satellites = int(inpu[17])\n",
    "        self.precision1 = int(inpu[18])\n",
    "        self.provider = inpu[19]\n",
    "        self.activity = int(inpu[20])\n",
    "        try:\n",
    "            self.incident = inpu[21]\n",
    "            if len(self.incident) == 0:\n",
    "                self.incident = -1\n",
    "            \n",
    "        except:\n",
    "            self.incident = -1\n",
    "            \n",
    "        try:\n",
    "            self.downloadSpeed = inpu[22]\n",
    "            self.uploadSpeed = inpu[23]\n",
    "            \n",
    "        except:\n",
    "            self.downloadSpeed = -1\n",
    "            self.uploadSpeed = -1\n",
    "        \n",
    "        \n",
    "        \n",
    "    def __str__(self):\n",
    "        '''return the name upon str(object)'''\n",
    "        return str(self.timestamp)\n"
   ]
  },
  {
   "cell_type": "code",
   "execution_count": 3,
   "metadata": {
    "collapsed": false
   },
   "outputs": [],
   "source": [
    "def average_attr(list_of_phones, attr):\n",
    "    \"\"\"averages that attribute in the list\"\"\"\n",
    "    total = 0\n",
    "    n = 0\n",
    "    for x in list_of_phones:\n",
    "#         try:\n",
    "            attrStr = 'x.'+attr\n",
    "            total += float(eval(attrStr))\n",
    "            n += 1\n",
    "        \n",
    "#         except:\n",
    "#             pass\n",
    "    \n",
    "    average = total/float(n)\n",
    "\n",
    "    return average\n",
    "    "
   ]
  },
  {
   "cell_type": "code",
   "execution_count": 4,
   "metadata": {
    "collapsed": false
   },
   "outputs": [],
   "source": [
    "def keys_and_incidences(list_of_phones, attr):\n",
    "    \"\"\"finds each key and the number of incidences\"\"\"\n",
    "    key_incid = {}\n",
    "    for x in list_of_phones:\n",
    "        strEval = 'x.'+attr\n",
    "        label = eval(strEval)\n",
    "        try:\n",
    "            key_incid[label] += 1\n",
    "        \n",
    "        except:\n",
    "            key_incid[label] = 1\n",
    "    \n",
    "\n",
    "\n",
    "    return key_incid"
   ]
  },
  {
   "cell_type": "code",
   "execution_count": 5,
   "metadata": {
    "collapsed": false
   },
   "outputs": [],
   "source": [
    "def just_values(list_of_phones, attr):\n",
    "    \"\"\"finds each key and the number of incidences\"\"\"\n",
    "    values = []\n",
    "    for x in list_of_phones:\n",
    "        strEval = 'x.'+attr\n",
    "        value = eval(strEval)\n",
    "        values.append(value)\n",
    "    \n",
    "\n",
    "\n",
    "    return values"
   ]
  },
  {
   "cell_type": "code",
   "execution_count": 6,
   "metadata": {
    "collapsed": true
   },
   "outputs": [],
   "source": [
    "def plot_bars(list_of_phones, attr,minimum = 0):\n",
    "    \"\"\"Plots each key with the number of incidences\"\"\"\n",
    "    \n",
    "    k_c = keys_and_incidences(list_of_phones, attr)\n",
    "    k_c_cropped = {}\n",
    "    for x in k_c.keys():\n",
    "        if k_c[x] > minimum:\n",
    "            k_c_cropped[x] = k_c[x]\n",
    "    plt.bar(range(len(k_c_cropped)), k_c_cropped.values(), align='center')\n",
    "    plt.xticks(rotation=90)\n",
    "    plt.xticks(range(len(k_c_cropped)), k_c_cropped.keys())\n",
    "    title = \"Breakdown of \"+str(attr)\n",
    "    plt.title(title)\n",
    "    plt.xlabel(\"Labels\")\n",
    "    plt.ylabel(\"Frequency\")\n",
    "    plt.show()"
   ]
  },
  {
   "cell_type": "code",
   "execution_count": 7,
   "metadata": {
    "collapsed": false
   },
   "outputs": [],
   "source": [
    "def plot_bar(dic,minimum = 0,xlab=\"Labels\",ylab=\"Frequency\",title=\"Breakdown\"):\n",
    "    \"\"\"Plots each key with its value\"\"\"\n",
    "\n",
    "    plt.bar(range(len(dic)), dic.values(), align='center')\n",
    "    plt.xticks(rotation=90)\n",
    "    plt.xticks(range(len(dic)), dic.keys())\n",
    "    plt.title(title)\n",
    "    plt.xlabel(xlab)\n",
    "    plt.ylabel(ylab)\n",
    "    plt.show()"
   ]
  },
  {
   "cell_type": "code",
   "execution_count": 8,
   "metadata": {
    "collapsed": true
   },
   "outputs": [],
   "source": [
    "def plot_hist(list_of_phones, attr):\n",
    "    \"\"\"Plots a histogram for that attribute\"\"\"\n",
    "    \n",
    "#     k_c = keys_and_incidences(list_of_phones, attr)\n",
    "    values = just_values(list_of_phones,attr)\n",
    "    \n",
    "    n, bins, patches = plt.hist(values, 50, facecolor='green', alpha=0.75) #, normed=1\n",
    "    \n",
    "#     plt.bar(range(len(k_c)), k_c.values(), align='center')\n",
    "#     plt.xticks(rotation=90)\n",
    "#     plt.xticks(range(len(k_c)), k_c.keys())\n",
    "    title = \"Breakdown of \"+str(attr)\n",
    "    plt.title(title)\n",
    "    xlab = \"Value of \"+attr\n",
    "    plt.xlabel(xlab)\n",
    "    plt.ylabel(\"Frequency\")\n",
    "    plt.show()"
   ]
  },
  {
   "cell_type": "code",
   "execution_count": 9,
   "metadata": {
    "collapsed": false
   },
   "outputs": [],
   "source": [
    "def import_all_data(folder,pollingRate = 0):\n",
    "    \"\"\"Imports all the data from the folder\"\"\"\n",
    "    searchTerm = folder + \"*.csv\"\n",
    "    files = glob.glob(searchTerm)\n",
    "    \n",
    "    list_of_phone_data = []\n",
    "    error_entries = []\n",
    "    number_of_original_entries = 0\n",
    "    \n",
    "    for fil in files:\n",
    "        phone_data = open(fil, \"r\")\n",
    "        phone_data_reader = csv.reader(phone_data, delimiter=',')\n",
    "#         phone_data_list = list(phone_data_reader)\n",
    "        print fil\n",
    "#         print len(list_of_phone_data)\n",
    "        skip = True\n",
    "        for x in phone_data_reader:\n",
    "            if skip == True:\n",
    "                skip=False\n",
    "                continue\n",
    "            \n",
    "            else:\n",
    "                try:\n",
    "                    number_of_original_entries+= 1\n",
    "                    if pollingRate != 0:\n",
    "                        if (number_of_original_entries%pollingRate) == 0:\n",
    "                            y = cell_user(x)\n",
    "                            list_of_phone_data.append (y)\n",
    "\n",
    "                    else:\n",
    "                        y = cell_user(x)\n",
    "                        list_of_phone_data.append (y)    \n",
    "\n",
    "\n",
    "    #                 if len(list_of_phone_data)%100000 == 0:\n",
    "    #                     print y.date\n",
    "    #                     print y.datetime\n",
    "                except:\n",
    "                    error_entries.append(str(x))\n",
    "\n",
    "                \n",
    "        phone_data.close()\n",
    "                \n",
    "    print \"Total valid entries: \" , len(list_of_phone_data)\n",
    "    print \"Ratio of invalid entries:\" , len(error_entries)/float(len(list_of_phone_data))\n",
    "    \n",
    "    return list_of_phone_data,error_entries"
   ]
  },
  {
   "cell_type": "code",
   "execution_count": 10,
   "metadata": {
    "collapsed": true
   },
   "outputs": [],
   "source": [
    "#Average signal per hour\n",
    "\n",
    "def groupBy(lst, attr):\n",
    "    \"\"\"groups the objects in lst by attribute in a dictionary\"\"\"\n",
    "    \n",
    "    grouped = {}\n",
    "    for x in lst:\n",
    "        strEval = 'x.'+attr\n",
    "        label = eval(strEval)\n",
    "        try:\n",
    "            grouped[label].append(x)\n",
    "        \n",
    "        except:\n",
    "            grouped[label] = [x]\n",
    "    \n",
    "\n",
    "\n",
    "    return grouped"
   ]
  },
  {
   "cell_type": "code",
   "execution_count": 11,
   "metadata": {
    "collapsed": true
   },
   "outputs": [],
   "source": [
    "def averageOfDict(ip, attr):\n",
    "    \"\"\"averages a dictionary and prints the values found and returns a dictionary of the averages\"\"\"\n",
    "    averages = {}\n",
    "    for y in ip.keys():\n",
    "        averages[y] = average_attr(ip[y],attr)\n",
    "        print str(y) +\" average = \"+ str(averages[y])\n",
    "        \n",
    "    return averages"
   ]
  },
  {
   "cell_type": "code",
   "execution_count": 12,
   "metadata": {
    "collapsed": false
   },
   "outputs": [
    {
     "name": "stdout",
     "output_type": "stream",
     "text": [
      "./data_export_cobercat/data_export_01-2015.csv\n",
      "./data_export_cobercat/data_export_01-2016.csv\n",
      "./data_export_cobercat/data_export_02-2015.csv\n",
      "./data_export_cobercat/data_export_02-2016.csv\n",
      "./data_export_cobercat/data_export_03-2015.csv\n",
      "./data_export_cobercat/data_export_03-2016.csv\n",
      "./data_export_cobercat/data_export_04-2015.csv\n",
      "./data_export_cobercat/data_export_04-2016.csv\n",
      "./data_export_cobercat/data_export_05-2015.csv\n",
      "./data_export_cobercat/data_export_05-2016.csv\n",
      "./data_export_cobercat/data_export_06-2015.csv\n",
      "./data_export_cobercat/data_export_06-2016.csv\n",
      "./data_export_cobercat/data_export_07-2015.csv\n",
      "./data_export_cobercat/data_export_07-2016.csv\n",
      "./data_export_cobercat/data_export_08-2015.csv\n",
      "./data_export_cobercat/data_export_08-2016.csv\n",
      "./data_export_cobercat/data_export_09-2015.csv\n",
      "./data_export_cobercat/data_export_09-2016.csv\n",
      "./data_export_cobercat/data_export_1-2015.csv\n",
      "./data_export_cobercat/data_export_10-2015.csv\n",
      "./data_export_cobercat/data_export_11-2015.csv\n",
      "./data_export_cobercat/data_export_12-2015.csv\n",
      "Total valid entries:  3215133\n",
      "Ratio of invalid entries: 0.00193864452886\n"
     ]
    }
   ],
   "source": [
    "all_data = import_all_data(\"./data_export_cobercat/\", pollingRate= 3)[0]"
   ]
  },
  {
   "cell_type": "code",
   "execution_count": null,
   "metadata": {
    "collapsed": true
   },
   "outputs": [],
   "source": []
  },
  {
   "cell_type": "code",
   "execution_count": 13,
   "metadata": {
    "collapsed": false
   },
   "outputs": [],
   "source": [
    "plot_bars(all_data,'fullCarrier', minimum=2000)"
   ]
  },
  {
   "cell_type": "code",
   "execution_count": 14,
   "metadata": {
    "collapsed": false
   },
   "outputs": [
    {
     "name": "stdout",
     "output_type": "stream",
     "text": [
      "3215133\n"
     ]
    }
   ],
   "source": [
    "print len(all_data)"
   ]
  },
  {
   "cell_type": "code",
   "execution_count": 15,
   "metadata": {
    "collapsed": false
   },
   "outputs": [
    {
     "data": {
      "text/plain": [
       "26.664624915983378"
      ]
     },
     "execution_count": 15,
     "metadata": {},
     "output_type": "execute_result"
    }
   ],
   "source": [
    "average_attr(all_data, \"speed\")"
   ]
  },
  {
   "cell_type": "code",
   "execution_count": 20,
   "metadata": {
    "collapsed": false
   },
   "outputs": [],
   "source": [
    "plt.axvline(x=26.7, linewidth=4)\n",
    "plot_hist(all_data,\"speed\")"
   ]
  },
  {
   "cell_type": "code",
   "execution_count": 22,
   "metadata": {
    "collapsed": false
   },
   "outputs": [],
   "source": [
    "plot_bars(all_data, \"activity\")"
   ]
  },
  {
   "cell_type": "code",
   "execution_count": 23,
   "metadata": {
    "collapsed": false
   },
   "outputs": [],
   "source": [
    "#todo\n",
    "plot_bars(all_data,'net_type')"
   ]
  },
  {
   "cell_type": "code",
   "execution_count": 27,
   "metadata": {
    "collapsed": false
   },
   "outputs": [],
   "source": [
    "# plot_bars(list_of_phone_data,'net_type')"
   ]
  },
  {
   "cell_type": "code",
   "execution_count": 28,
   "metadata": {
    "collapsed": false
   },
   "outputs": [],
   "source": [
    "# Next is to filter by data/maybe \n",
    "# n, bins, patches = plt.hist(all_data, 50, normed=1, facecolor='green', alpha=0.75)"
   ]
  },
  {
   "cell_type": "code",
   "execution_count": 29,
   "metadata": {
    "collapsed": false
   },
   "outputs": [],
   "source": [
    "# plt.close()\n",
    "# plot_hist(list_of_phone_data,'speed')\n"
   ]
  },
  {
   "cell_type": "code",
   "execution_count": 24,
   "metadata": {
    "collapsed": false
   },
   "outputs": [],
   "source": [
    "# print all_data[-1].date"
   ]
  },
  {
   "cell_type": "code",
   "execution_count": null,
   "metadata": {
    "collapsed": false
   },
   "outputs": [],
   "source": [
    "# date_datetime = datetime.strptime(all_data[1].date, '%Y-%m-%d %H:%M:%S.%f')\n",
    "# print date_datetime.timetuple()"
   ]
  },
  {
   "cell_type": "code",
   "execution_count": 31,
   "metadata": {
    "collapsed": false
   },
   "outputs": [
    {
     "name": "stdout",
     "output_type": "stream",
     "text": [
      "22\n"
     ]
    }
   ],
   "source": [
    "# print average_attr(all_data,'datetime')\n",
    "print datetime.strftime(all_data[-1].datetime,'%S')"
   ]
  },
  {
   "cell_type": "code",
   "execution_count": 15,
   "metadata": {
    "collapsed": false
   },
   "outputs": [],
   "source": [
    "plt.close()\n",
    "plot_hist(all_data,'datetime.month')"
   ]
  },
  {
   "cell_type": "code",
   "execution_count": 33,
   "metadata": {
    "collapsed": false
   },
   "outputs": [],
   "source": [
    "# print all_data[-15000].date"
   ]
  },
  {
   "cell_type": "code",
   "execution_count": 13,
   "metadata": {
    "collapsed": false
   },
   "outputs": [],
   "source": [
    "plot_bars(all_data,'datetime.day')\n",
    "plot_bars(all_data,'datetime.month')\n",
    "plot_bars(all_data,'datetime.year')\n",
    "\n"
   ]
  },
  {
   "cell_type": "code",
   "execution_count": 17,
   "metadata": {
    "collapsed": false,
    "scrolled": false
   },
   "outputs": [],
   "source": [
    "# plt.close()\n",
    "plot_bars(all_data,'datetime.hour')\n",
    "plot_bars(all_data,'datetime.minute')\n"
   ]
  },
  {
   "cell_type": "code",
   "execution_count": 20,
   "metadata": {
    "collapsed": false
   },
   "outputs": [
    {
     "name": "stdout",
     "output_type": "stream",
     "text": [
      "Average time is 13.1481213996\n"
     ]
    }
   ],
   "source": [
    "print \"Average time is \"+str(average_attr(all_data,'datetime.hour'))"
   ]
  },
  {
   "cell_type": "code",
   "execution_count": 37,
   "metadata": {
    "collapsed": false
   },
   "outputs": [
    {
     "name": "stdout",
     "output_type": "stream",
     "text": [
      "1.0752419387\n"
     ]
    }
   ],
   "source": [
    "print 13.0752419387-12"
   ]
  },
  {
   "cell_type": "code",
   "execution_count": 21,
   "metadata": {
    "collapsed": false
   },
   "outputs": [
    {
     "name": "stdout",
     "output_type": "stream",
     "text": [
      "Average signal =  13.4651714253\n",
      "Average minimum signal =  10.8226278664\n",
      "Average maximum signal =  18.0335345381\n"
     ]
    }
   ],
   "source": [
    "print \"Average signal = \",average_attr(all_data,'signal_avg')\n",
    "print \"Average minimum signal = \",average_attr(all_data,'signal_min')\n",
    "print \"Average maximum signal = \",average_attr(all_data,'signal_max')\n",
    "print\n",
    "\n"
   ]
  },
  {
   "cell_type": "code",
   "execution_count": 22,
   "metadata": {
    "collapsed": false
   },
   "outputs": [
    {
     "name": "stdout",
     "output_type": "stream",
     "text": [
      "Average number of satelites =  5.07598908039\n"
     ]
    }
   ],
   "source": [
    "print \"Average number of satelites = \",average_attr(all_data,'satellites')"
   ]
  },
  {
   "cell_type": "code",
   "execution_count": 23,
   "metadata": {
    "collapsed": false
   },
   "outputs": [
    {
     "name": "stdout",
     "output_type": "stream",
     "text": [
      "13.5436080092\n",
      "13.3762233933\n",
      "13.2859632308\n",
      "13.0534576239\n",
      "12.9637407804\n",
      "13.1104162595\n",
      "13.580044977\n",
      "13.7069439086\n",
      "13.6093703761\n",
      "13.2322232769\n",
      "13.1712731651\n",
      "13.287845673\n",
      "13.3616850002\n",
      "13.4557279931\n",
      "13.60310229\n",
      "13.3483930316\n",
      "13.5722816876\n",
      "13.6050310951\n",
      "13.5679977708\n",
      "13.5924002513\n",
      "13.4802629867\n",
      "13.5490566038\n",
      "13.577755332\n",
      "13.6866311996\n"
     ]
    }
   ],
   "source": [
    "sortedByTime = groupBy(all_data,'datetime.hour')\n",
    "\n",
    "signal_by_time = {}\n",
    "for y in sortedByTime.keys():\n",
    "    signal_by_time[y] = average_attr(sortedByTime[y],'signal_avg')\n",
    "    print signal_by_time[y]\n",
    "    \n",
    "    \n"
   ]
  },
  {
   "cell_type": "code",
   "execution_count": 26,
   "metadata": {
    "collapsed": false
   },
   "outputs": [],
   "source": [
    "# plt.close()\n",
    "plot_bar(signal_by_time, title=\"Average signal against hour\")\n",
    "# plt.title(\"Average Signal by hour\")"
   ]
  },
  {
   "cell_type": "code",
   "execution_count": 28,
   "metadata": {
    "collapsed": false
   },
   "outputs": [
    {
     "name": "stdout",
     "output_type": "stream",
     "text": [
      "0 average = 2.00534270312\n",
      "1 average = 2.06946820888\n",
      "2 average = 2.08686939096\n",
      "3 average = 1.9647103586\n",
      "4 average = 1.55565565002\n",
      "5 average = 1.11234610123\n",
      "6 average = 1.06506728979\n",
      "7 average = 1.29010785257\n",
      "8 average = 1.39361397983\n",
      "9 average = 1.51737282146\n",
      "10 average = 1.56844820914\n",
      "11 average = 1.56172834415\n",
      "12 average = 1.56255874265\n",
      "13 average = 1.5489816779\n",
      "14 average = 1.47025189485\n",
      "15 average = 1.48387834439\n",
      "16 average = 1.45454910356\n",
      "17 average = 1.48449697146\n",
      "18 average = 1.5549396609\n",
      "19 average = 1.62875276177\n",
      "20 average = 1.69089521298\n",
      "21 average = 1.86644607153\n",
      "22 average = 1.88856299289\n",
      "23 average = 1.89251187003\n"
     ]
    }
   ],
   "source": [
    "plt.close()\n",
    "av_activity_by_hour = averageOfDict(sortedByTime,\"activity\")\n",
    "# plt.title(\"Average activity by hour\")\n",
    "plot_bar(av_activity_by_hour,title=\"Average activity by hour\",xlab=\"hour\",ylab=\"Average Activity\")"
   ]
  },
  {
   "cell_type": "code",
   "execution_count": 29,
   "metadata": {
    "collapsed": false
   },
   "outputs": [
    {
     "name": "stdout",
     "output_type": "stream",
     "text": [
      "0 average = 3.6137851367\n",
      "1 average = 3.73649989734\n",
      "2 average = 3.50169905027\n",
      "3 average = 3.60762865024\n",
      "4 average = 4.44017791791\n",
      "5 average = 4.84356068009\n",
      "6 average = 5.12170139499\n",
      "7 average = 5.38332863074\n",
      "8 average = 5.23285500043\n",
      "9 average = 5.20963507482\n",
      "10 average = 5.21258545814\n",
      "11 average = 5.23982878209\n",
      "12 average = 5.18285062833\n",
      "13 average = 5.13155754372\n",
      "14 average = 5.15713220288\n",
      "15 average = 5.17296738249\n",
      "16 average = 5.2305235929\n",
      "17 average = 5.14189988015\n",
      "18 average = 5.05671660986\n",
      "19 average = 4.9258978469\n",
      "20 average = 4.74514923108\n",
      "21 average = 4.38797521825\n",
      "22 average = 4.15774445437\n",
      "23 average = 4.06452720096\n"
     ]
    }
   ],
   "source": [
    "av_satelites_by_hour = averageOfDict(sortedByTime,\"satellites\")\n",
    "# plt.title(\"Average activity by hour\")\n",
    "plt.close()\n",
    "plot_bar(av_satelites_by_hour,title=\"Average satellites by hour\",xlab=\"hour\",ylab=\"Average satellites\")\n"
   ]
  },
  {
   "cell_type": "code",
   "execution_count": 30,
   "metadata": {
    "collapsed": false
   },
   "outputs": [
    {
     "name": "stdout",
     "output_type": "stream",
     "text": [
      "0 average = 15.8080958799\n",
      "1 average = 16.1156662788\n",
      "2 average = 15.8211205019\n",
      "3 average = 15.9924854942\n",
      "4 average = 15.4432745904\n",
      "5 average = 15.3085548173\n",
      "6 average = 15.452211954\n",
      "7 average = 15.6344241433\n",
      "8 average = 15.5307689607\n",
      "9 average = 15.5081638629\n",
      "10 average = 15.5342821516\n",
      "11 average = 15.6210772872\n",
      "12 average = 15.5371645142\n",
      "13 average = 15.4674774408\n",
      "14 average = 15.4388878932\n",
      "15 average = 15.2821289732\n",
      "16 average = 15.4761618054\n",
      "17 average = 15.4873149678\n",
      "18 average = 15.513681864\n",
      "19 average = 15.5551433956\n",
      "20 average = 15.5776600082\n",
      "21 average = 15.5441002534\n",
      "22 average = 15.5144322287\n",
      "23 average = 15.7971797952\n"
     ]
    }
   ],
   "source": [
    "av_day_by_hour = averageOfDict(sortedByTime,\"datetime.day\")\n",
    "# plt.title(\"Average activity by hour\")\n",
    "plt.close()\n",
    "plot_bar(av_day_by_hour,title=\"Average day by hour\",xlab=\"hour\",ylab=\"Average day\")\n"
   ]
  },
  {
   "cell_type": "code",
   "execution_count": 32,
   "metadata": {
    "collapsed": false
   },
   "outputs": [
    {
     "name": "stdout",
     "output_type": "stream",
     "text": [
      "0 average = 38.4697146284\n",
      "1 average = 37.3763517028\n",
      "2 average = 37.7647844611\n",
      "3 average = 38.4781793912\n",
      "4 average = 39.9599676871\n",
      "5 average = 41.1623821832\n",
      "6 average = 41.2913055044\n",
      "7 average = 41.4716457875\n",
      "8 average = 41.4699960547\n",
      "9 average = 41.4372295342\n",
      "10 average = 41.3602679162\n",
      "11 average = 41.2019732079\n",
      "12 average = 41.089106037\n",
      "13 average = 40.9325974111\n",
      "14 average = 40.8821438955\n",
      "15 average = 40.9707593702\n",
      "16 average = 41.0286893883\n",
      "17 average = 41.0998212451\n",
      "18 average = 41.1355017386\n",
      "19 average = 40.9698993707\n",
      "20 average = 40.6155263037\n",
      "21 average = 40.0776735325\n",
      "22 average = 39.6448001066\n",
      "23 average = 39.6538923363\n"
     ]
    }
   ],
   "source": [
    "av_lat_by_hour = averageOfDict(sortedByTime,\"lat\")\n",
    "# plt.title(\"Average activity by hour\")\n",
    "plt.close()\n",
    "plot_bar(av_lat_by_hour,title=\"Average lattitude by hour\",xlab=\"hour\",ylab=\"Average lattitude\")\n"
   ]
  },
  {
   "cell_type": "code",
   "execution_count": 33,
   "metadata": {
    "collapsed": false
   },
   "outputs": [
    {
     "name": "stdout",
     "output_type": "stream",
     "text": [
      "0 average = -5.98852580622\n",
      "1 average = -8.69709019027\n",
      "2 average = -7.20110899538\n",
      "3 average = -5.58852754209\n",
      "4 average = -1.60494221947\n",
      "5 average = 1.30403625073\n",
      "6 average = 1.72506214721\n",
      "7 average = 1.93733614702\n",
      "8 average = 1.91580607891\n",
      "9 average = 1.79864602157\n",
      "10 average = 1.54096888223\n",
      "11 average = 0.869887723528\n",
      "12 average = 0.574504824642\n",
      "13 average = 0.258269629381\n",
      "14 average = -0.0457859802624\n",
      "15 average = 0.0533337086564\n",
      "16 average = 0.318488609535\n",
      "17 average = 0.455057826863\n",
      "18 average = 0.497428681671\n",
      "19 average = -0.0299797231729\n",
      "20 average = -1.22582817583\n",
      "21 average = -3.10379549113\n",
      "22 average = -4.42911049338\n",
      "23 average = -3.73739092386\n"
     ]
    }
   ],
   "source": [
    "av_long_by_hour = averageOfDict(sortedByTime,\"lng\")\n",
    "# plt.title(\"Average activity by hour\")\n",
    "plt.close()\n",
    "plot_bar(av_long_by_hour,title=\"Average longitude by hour\",xlab=\"hour\",ylab=\"Average longitude\")\n"
   ]
  },
  {
   "cell_type": "code",
   "execution_count": 27,
   "metadata": {
    "collapsed": false
   },
   "outputs": [
    {
     "data": {
      "image/png": "[encoded data removed]",
      "text/plain": [
       "<matplotlib.figure.Figure at 0x5680cb0d0>"
      ]
     },
     "metadata": {},
     "output_type": "display_data"
    }
   ],
   "source": [
    "#heatmap\n",
    "x=[]\n",
    "y=[]\n",
    "for q in all_data:\n",
    "    try:\n",
    "        y.append(q.lat)\n",
    "        x.append(q.lng)\n",
    "        \n",
    "    except:\n",
    "        pass\n",
    "\n",
    "\n",
    "\n"
   ]
  },
  {
   "cell_type": "code",
   "execution_count": 56,
   "metadata": {
    "collapsed": false
   },
   "outputs": [
    {
     "data": {
      "image/png": "[encoded data removed]",
      "text/plain": [
       "<matplotlib.figure.Figure at 0x58131b650>"
      ]
     },
     "metadata": {},
     "output_type": "display_data"
    }
   ],
   "source": [
    "# ###### Create heatmap\n",
    "# heatmap, xedges, yedges = np.histogram2d(x, y, bins=(5,5))\n",
    "# extent = [xedges[0], xedges[-1], yedges[0], yedges[-1]]\n",
    " \n",
    "# # Plot heatmap\n",
    "# plt.clf()\n",
    "# plt.title('Heatmap of users')\n",
    "# plt.ylabel('lattitude')\n",
    "# plt.xlabel('longitude')\n",
    "# plt.imshow(heatmap, extent=[45,50,41,44])\n",
    "# plt.show()"
   ]
  },
  {
   "cell_type": "code",
   "execution_count": 45,
   "metadata": {
    "collapsed": false
   },
   "outputs": [
    {
     "data": {
      "text/plain": [
       "4822632"
      ]
     },
     "execution_count": 45,
     "metadata": {},
     "output_type": "execute_result"
    }
   ],
   "source": []
  },
  {
   "cell_type": "code",
   "execution_count": null,
   "metadata": {
    "collapsed": true
   },
   "outputs": [],
   "source": []
  }
 ],
 "metadata": {
  "kernelspec": {
   "display_name": "Python 2",
   "language": "python",
   "name": "python2"
  },
  "language_info": {
   "codemirror_mode": {
    "name": "ipython",
    "version": 2
   },
   "file_extension": ".py",
   "mimetype": "text/x-python",
   "name": "python",
   "nbconvert_exporter": "python",
   "pygments_lexer": "ipython2",
   "version": "2.7.12"
  }
 },
 "nbformat": 4,
 "nbformat_minor": 0
}
