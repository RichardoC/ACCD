{
 "cells": [
  {
   "cell_type": "code",
   "execution_count": 1,
   "metadata": {
    "collapsed": false
   },
   "outputs": [],
   "source": [
    "import numpy as np\n",
    "import csv\n",
    "import glob\n",
    "from datetime import datetime\n",
    "import matplotlib.pyplot as plt\n",
    "\n",
    "%matplotlib inline\n",
    "plt.rcParams['figure.figsize'] = [10, 8]\n",
    "\n",
    "from os import listdir\n",
    "        \n",
    "# content = content.decode('utf-8')         \n",
    "\n",
    "\n",
    "\n",
    "# test_data = np.genfromtxt('./data_export_cobercat/data_export_1-2015.csv',skip_header=1,delimiter=',', dtype=None, names=['timestamp','date','lat','lng','signal_inst','signal_min','signal_max','signal_avg','carrier','fullCarrier','status','net','net_type','lac','cid','psc','speed,satellites','precision1','provider','activity','incident','downloadSpeed','uploadSpeed'],filling_values=(-1))"
   ]
  },
  {
   "cell_type": "code",
   "execution_count": 47,
   "metadata": {
    "collapsed": true
   },
   "outputs": [],
   "source": [
    "class cell_user:\n",
    "    '''Holds data for each user'''\n",
    "    \n",
    "    def __init__(self, inpu):\n",
    "        self.timestamp = int(inpu[0])\n",
    "        self.date = inpu[1]\n",
    "#         self.datetime = datetime.strptime(self.date, '%Y-%m-%d %H:%M:%S.%f')\n",
    "#         self.datetime = datetime(self.timestamp)\n",
    "        try:\n",
    "            self.datetime = datetime.fromtimestamp(self.timestamp/1000.0)\n",
    "        except:\n",
    "            pass\n",
    "\n",
    "        self.lat = float(inpu[2])\n",
    "        self.lng = float(inpu[3])\n",
    "        self.signal_inst = int(inpu[4])\n",
    "        self.signal_min = int(inpu[5])\n",
    "        self.signal_max = int(inpu[6])\n",
    "        self.signal_avg = int(inpu[7])\n",
    "        self.carrier = unicode(inpu[8])\n",
    "        self.fullCarrier = unicode(inpu[9])\n",
    "        self.status = int(inpu[10])\n",
    "            \n",
    "#         self.status = int(inpu[10])\n",
    "        self.net = int(inpu[11])\n",
    "        self.net_type = inpu[12]\n",
    "        self.lac = int(inpu[13])\n",
    "        self.cid = int(inpu[14])\n",
    "        self.psc = int(inpu[15])\n",
    "        self.speed = float(inpu[16])\n",
    "        self.satellites = int(inpu[17])\n",
    "        self.precision1 = int(inpu[18])\n",
    "        self.provider = inpu[19]\n",
    "        self.activity = int(inpu[20])\n",
    "        try:\n",
    "            self.incident = inpu[21]\n",
    "            if len(self.incident) == 0:\n",
    "                self.incident = -1\n",
    "            \n",
    "        except:\n",
    "            self.incident = -1\n",
    "            \n",
    "        try:\n",
    "            self.downloadSpeed = inpu[22]\n",
    "            self.uploadSpeed = inpu[23]\n",
    "            \n",
    "        except:\n",
    "            self.downloadSpeed = -1\n",
    "            self.uploadSpeed = -1\n",
    "        \n",
    "        \n",
    "        \n",
    "    def __str__(self):\n",
    "        '''return the name upon str(object)'''\n",
    "        return str(self.timestamp)\n"
   ]
  },
  {
   "cell_type": "code",
   "execution_count": 23,
   "metadata": {
    "collapsed": false
   },
   "outputs": [],
   "source": [
    "def average_attr(list_of_phones, attr):\n",
    "    \"\"\"averages that attribute in the list\"\"\"\n",
    "    total = 0\n",
    "    n = 0\n",
    "    for x in list_of_phones:\n",
    "        try:\n",
    "            total += float(getattr(x, attr))\n",
    "            n += 1\n",
    "        \n",
    "        except:\n",
    "            pass\n",
    "    \n",
    "    average = total/float(n)\n",
    "\n",
    "    return average\n",
    "    "
   ]
  },
  {
   "cell_type": "code",
   "execution_count": 65,
   "metadata": {
    "collapsed": false
   },
   "outputs": [],
   "source": [
    "def keys_and_incidences(list_of_phones, attr):\n",
    "    \"\"\"finds each key and the number of incidences\"\"\"\n",
    "    key_incid = {}\n",
    "    for x in list_of_phones:\n",
    "        strEval = 'x.'+attr\n",
    "        label = eval(strEval)\n",
    "        try:\n",
    "            key_incid[label] += 1\n",
    "        \n",
    "        except:\n",
    "            key_incid[label] = 1\n",
    "    \n",
    "\n",
    "\n",
    "    return key_incid"
   ]
  },
  {
   "cell_type": "code",
   "execution_count": 25,
   "metadata": {
    "collapsed": false
   },
   "outputs": [],
   "source": [
    "def just_values(list_of_phones, attr):\n",
    "    \"\"\"finds each key and the number of incidences\"\"\"\n",
    "    values = []\n",
    "    for x in list_of_phones:\n",
    "        strEval = 'x.'+attr\n",
    "        value = eval(strEval)\n",
    "        values.append(value)\n",
    "    \n",
    "\n",
    "\n",
    "    return values"
   ]
  },
  {
   "cell_type": "code",
   "execution_count": 26,
   "metadata": {
    "collapsed": true
   },
   "outputs": [],
   "source": [
    "def plot_bars(list_of_phones, attr):\n",
    "    \"\"\"Plots each key with the number of incidences\"\"\"\n",
    "    \n",
    "    k_c = keys_and_incidences(list_of_phones, attr)\n",
    "    plt.bar(range(len(k_c)), k_c.values(), align='center')\n",
    "    plt.xticks(rotation=90)\n",
    "    plt.xticks(range(len(k_c)), k_c.keys())\n",
    "    title = \"Breakdown of \"+str(attr)\n",
    "    plt.title(title)\n",
    "    plt.xlabel(\"Labels\")\n",
    "    plt.ylabel(\"Frequency\")\n",
    "    plt.show()"
   ]
  },
  {
   "cell_type": "code",
   "execution_count": 62,
   "metadata": {
    "collapsed": true
   },
   "outputs": [],
   "source": [
    "def plot_hist(list_of_phones, attr):\n",
    "    \"\"\"Plots a histogram for that attribute\"\"\"\n",
    "    \n",
    "#     k_c = keys_and_incidences(list_of_phones, attr)\n",
    "    values = just_values(list_of_phones,attr)\n",
    "    \n",
    "    n, bins, patches = plt.hist(values, 5, normed=1, facecolor='green', alpha=0.75)\n",
    "    \n",
    "#     plt.bar(range(len(k_c)), k_c.values(), align='center')\n",
    "#     plt.xticks(rotation=90)\n",
    "#     plt.xticks(range(len(k_c)), k_c.keys())\n",
    "    title = \"Breakdown of \"+str(attr)\n",
    "    plt.title(title)\n",
    "    xlab = \"Value of \"+attr\n",
    "    plt.xlabel(xlab)\n",
    "    plt.ylabel(\"Frequency\")\n",
    "    plt.show()"
   ]
  },
  {
   "cell_type": "code",
   "execution_count": 84,
   "metadata": {
    "collapsed": false
   },
   "outputs": [],
   "source": [
    "def import_all_data(folder):\n",
    "    \"\"\"Imports all the data from the folder\"\"\"\n",
    "    searchTerm = folder + \"*.csv\"\n",
    "    files = glob.glob(searchTerm)\n",
    "    \n",
    "    list_of_phone_data = []\n",
    "    error_entries = []\n",
    "    \n",
    "    for fil in files:\n",
    "        phone_data = open(unix, \"r\")\n",
    "        phone_data_reader = csv.reader(phone_data, delimiter=',')\n",
    "        phone_data_list = list(phone_data_reader)\n",
    "        print fil\n",
    "        print len(list_of_phone_data)\n",
    "\n",
    "        for x in phone_data_list[1:]:\n",
    "            try:\n",
    "                y = cell_user(x)\n",
    "                list_of_phone_data.append (y)\n",
    "                if len(list_of_phone_data)%100000 == 0:\n",
    "                    print y.date\n",
    "                    print y.datetime\n",
    "            except:\n",
    "                error_entries.append(str(x))\n",
    "                \n",
    "    print \"Total valid entries: \" , len(list_of_phone_data)\n",
    "    print \"Ratio of invalid entries:\" , len(error_entries)/float(len(list_of_phone_data))\n",
    "    \n",
    "    return list_of_phone_data,error_entries"
   ]
  },
  {
   "cell_type": "code",
   "execution_count": 70,
   "metadata": {
    "collapsed": false,
    "scrolled": false
   },
   "outputs": [
    {
     "name": "stdout",
     "output_type": "stream",
     "text": [
      "1448865682652\n",
      "0.00389511303859\n"
     ]
    }
   ],
   "source": [
    "unix = \"./data_export_cobercat/data_export_1-2015.csv\"\n",
    "\n",
    "phone_data = open(unix, \"r\")\n",
    "phone_data_reader = csv.reader(phone_data, delimiter=',')\n",
    "phone_data_list = list(phone_data_reader)\n",
    "list_of_phone_data = []\n",
    "error_entries = []\n",
    "\n",
    "for x in phone_data_list[1:]:\n",
    "    try:\n",
    "        y = cell_user(x)\n",
    "        list_of_phone_data.append (y)\n",
    "    except:\n",
    "        error_entries.append(str(x))\n",
    "        \n",
    "        \n",
    "print list_of_phone_data[-1]\n",
    "print len(error_entries)/float(len(list_of_phone_data))"
   ]
  },
  {
   "cell_type": "code",
   "execution_count": null,
   "metadata": {
    "collapsed": false
   },
   "outputs": [],
   "source": [
    "for x in list_of_phone_data[-10:-5]:\n",
    "    print x.uploadSpeed"
   ]
  },
  {
   "cell_type": "code",
   "execution_count": null,
   "metadata": {
    "collapsed": false
   },
   "outputs": [],
   "source": [
    "sum = 0\n",
    "count = 0\n",
    "for x in list_of_phone_data:\n",
    "    sum += float(getattr(x, \"speed\"))\n",
    "    count += 1"
   ]
  },
  {
   "cell_type": "code",
   "execution_count": null,
   "metadata": {
    "collapsed": false
   },
   "outputs": [],
   "source": [
    "print sum/count"
   ]
  },
  {
   "cell_type": "code",
   "execution_count": null,
   "metadata": {
    "collapsed": false
   },
   "outputs": [],
   "source": [
    "len(list_of_phone_data)"
   ]
  },
  {
   "cell_type": "code",
   "execution_count": null,
   "metadata": {
    "collapsed": false
   },
   "outputs": [],
   "source": [
    "print average_attr(list_of_phone_data, \"precision1\")"
   ]
  },
  {
   "cell_type": "code",
   "execution_count": null,
   "metadata": {
    "collapsed": false
   },
   "outputs": [],
   "source": [
    "k_c= keys_and_incidences(list_of_phone_data,'fullCarrier')"
   ]
  },
  {
   "cell_type": "code",
   "execution_count": null,
   "metadata": {
    "collapsed": false
   },
   "outputs": [],
   "source": [
    "# plt.plot(k_c)\n",
    "\n",
    "plt.bar(range(len(k_c)), k_c.values(), align='center')\n",
    "plt.xticks(rotation=90)\n",
    "plt.xticks(range(len(k_c)), k_c.keys())\n",
    "\n"
   ]
  },
  {
   "cell_type": "code",
   "execution_count": null,
   "metadata": {
    "collapsed": false
   },
   "outputs": [],
   "source": [
    "print (k_c.values)\n",
    "\n"
   ]
  },
  {
   "cell_type": "code",
   "execution_count": null,
   "metadata": {
    "collapsed": false
   },
   "outputs": [],
   "source": [
    "plot_bars(list_of_phone_data,'carrier')\n",
    "plot_bars(list_of_phone_data,'fullCarrier')\n"
   ]
  },
  {
   "cell_type": "code",
   "execution_count": null,
   "metadata": {
    "collapsed": false
   },
   "outputs": [],
   "source": [
    "plot_bars(list_of_phone_data,'net_type')\n"
   ]
  },
  {
   "cell_type": "code",
   "execution_count": 85,
   "metadata": {
    "collapsed": false
   },
   "outputs": [
    {
     "name": "stdout",
     "output_type": "stream",
     "text": [
      "./data_export_cobercat/data_export_01-2015.csv\n",
      "0\n",
      "./data_export_cobercat/data_export_01-2016.csv\n",
      "99612\n",
      "2015-12-05 22:50:15.950000\n",
      "2015-12-05 21:50:15.950000\n",
      "./data_export_cobercat/data_export_02-2015.csv\n",
      "199224\n",
      "2015-12-05 21:40:00.000000\n",
      "2015-12-05 20:40:00\n",
      "./data_export_cobercat/data_export_02-2016.csv\n",
      "298836\n",
      "2015-12-05 20:57:18.032000\n",
      "2015-12-05 19:57:18.032000\n",
      "./data_export_cobercat/data_export_03-2015.csv\n",
      "398448\n",
      "2015-12-05 20:18:59.000000\n",
      "2015-12-05 19:18:59\n",
      "./data_export_cobercat/data_export_03-2016.csv\n",
      "498060\n",
      "2015-12-05 19:50:32.000000\n",
      "2015-12-05 18:50:32\n",
      "./data_export_cobercat/data_export_04-2015.csv\n",
      "597672\n",
      "2015-12-05 19:23:50.000000\n",
      "2015-12-05 18:23:50\n",
      "./data_export_cobercat/data_export_04-2016.csv\n",
      "697284\n",
      "2015-12-05 19:02:46.000000\n",
      "2015-12-05 18:02:46\n",
      "./data_export_cobercat/data_export_05-2015.csv\n",
      "796896\n",
      "2015-12-05 18:41:29.573000\n",
      "2015-12-05 17:41:29.573000\n",
      "./data_export_cobercat/data_export_05-2016.csv\n",
      "896508\n",
      "2015-12-05 18:22:39.000000\n",
      "2015-12-05 17:22:39\n",
      "./data_export_cobercat/data_export_06-2015.csv\n",
      "996120\n",
      "2015-12-05 18:04:38.041000\n",
      "2015-12-05 17:04:38.041000\n",
      "./data_export_cobercat/data_export_06-2016.csv\n",
      "1095732\n",
      "2015-12-05 17:47:24.000000\n",
      "2015-12-05 16:47:24\n",
      "./data_export_cobercat/data_export_07-2015.csv\n",
      "1195344\n",
      "2015-12-05 17:20:25.000000\n",
      "2015-12-05 16:20:25\n",
      "./data_export_cobercat/data_export_07-2016.csv\n",
      "1294956\n",
      "2015-12-05 16:55:32.000000\n",
      "2015-12-05 15:55:32\n",
      "./data_export_cobercat/data_export_08-2015.csv\n",
      "1394568\n",
      "2015-12-05 16:29:44.469000\n",
      "2015-12-05 15:29:44.469000\n",
      "./data_export_cobercat/data_export_08-2016.csv\n",
      "1494180\n",
      "2015-12-05 15:57:33.000000\n",
      "2015-12-05 14:57:33\n",
      "./data_export_cobercat/data_export_09-2015.csv\n",
      "1593792\n",
      "2015-12-05 15:30:38.820000\n",
      "2015-12-05 14:30:38.820000\n",
      "./data_export_cobercat/data_export_09-2016.csv\n",
      "1693404\n",
      "2015-12-05 14:55:31.351000\n",
      "2015-12-05 13:55:31.351000\n",
      "./data_export_cobercat/data_export_1-2015.csv\n",
      "1793016\n",
      "2015-12-05 14:32:38.816000\n",
      "2015-12-05 13:32:38.816000\n",
      "./data_export_cobercat/data_export_10-2015.csv\n",
      "1892628\n",
      "2015-12-05 14:15:26.488000\n",
      "2015-12-05 13:15:26.488000\n",
      "./data_export_cobercat/data_export_11-2015.csv\n",
      "1992240\n",
      "2015-12-05 14:05:12.000000\n",
      "2015-12-05 13:05:12\n",
      "./data_export_cobercat/data_export_12-2015.csv\n",
      "2091852\n",
      "2015-12-05 13:49:52.236000\n",
      "2015-12-05 12:49:52.236000\n",
      "Total valid entries:  2191464\n",
      "Ratio of invalid entries: 0.00389511303859\n"
     ]
    }
   ],
   "source": [
    "all_data = import_all_data(\"./data_export_cobercat/\")[0]"
   ]
  },
  {
   "cell_type": "code",
   "execution_count": null,
   "metadata": {
    "collapsed": false
   },
   "outputs": [],
   "source": [
    "plot_bars(all_data,'fullCarrier')\n"
   ]
  },
  {
   "cell_type": "code",
   "execution_count": null,
   "metadata": {
    "collapsed": false
   },
   "outputs": [],
   "source": [
    "print len(all_data)"
   ]
  },
  {
   "cell_type": "code",
   "execution_count": null,
   "metadata": {
    "collapsed": false
   },
   "outputs": [],
   "source": [
    "average_attr(all_data, \"speed\")"
   ]
  },
  {
   "cell_type": "code",
   "execution_count": null,
   "metadata": {
    "collapsed": false
   },
   "outputs": [],
   "source": [
    "plot_bars(all_data, \"activity\")"
   ]
  },
  {
   "cell_type": "code",
   "execution_count": null,
   "metadata": {
    "collapsed": false
   },
   "outputs": [],
   "source": [
    "plot_bars(all_data,'net_type')"
   ]
  },
  {
   "cell_type": "code",
   "execution_count": null,
   "metadata": {
    "collapsed": false
   },
   "outputs": [],
   "source": [
    "plot_bars(list_of_phone_data,'net_type')"
   ]
  },
  {
   "cell_type": "code",
   "execution_count": null,
   "metadata": {
    "collapsed": false
   },
   "outputs": [],
   "source": [
    "# Next is to filter by data/maybe \n",
    "# n, bins, patches = plt.hist(all_data, 50, normed=1, facecolor='green', alpha=0.75)"
   ]
  },
  {
   "cell_type": "code",
   "execution_count": null,
   "metadata": {
    "collapsed": false
   },
   "outputs": [],
   "source": [
    "plot_hist(list_of_phone_data,'speed')"
   ]
  },
  {
   "cell_type": "code",
   "execution_count": null,
   "metadata": {
    "collapsed": false
   },
   "outputs": [],
   "source": [
    "print all_data[1].date"
   ]
  },
  {
   "cell_type": "code",
   "execution_count": null,
   "metadata": {
    "collapsed": false
   },
   "outputs": [],
   "source": [
    "date_datetime = datetime.strptime(all_data[1].date, '%Y-%m-%d %H:%M:%S.%f')\n",
    "print date_datetime"
   ]
  },
  {
   "cell_type": "code",
   "execution_count": null,
   "metadata": {
    "collapsed": false
   },
   "outputs": [],
   "source": [
    "print average_attr(all_data,datetime)"
   ]
  },
  {
   "cell_type": "code",
   "execution_count": 63,
   "metadata": {
    "collapsed": false
   },
   "outputs": [
    {
     "data": {
      "image/png": "[encoded data removed]",
      "text/plain": [
       "<matplotlib.figure.Figure at 0x11712fd10>"
      ]
     },
     "metadata": {},
     "output_type": "display_data"
    }
   ],
   "source": [
    "plot_hist(all_data,'datetime.month')"
   ]
  },
  {
   "cell_type": "code",
   "execution_count": 78,
   "metadata": {
    "collapsed": false
   },
   "outputs": [
    {
     "name": "stdout",
     "output_type": "stream",
     "text": [
      "2015-12-01 06:19:12.000000\n"
     ]
    }
   ],
   "source": [
    "print all_data[-15000].date"
   ]
  },
  {
   "cell_type": "code",
   "execution_count": 67,
   "metadata": {
    "collapsed": false
   },
   "outputs": [
    {
     "data": {
      "image/png": "[encoded data removed]",
      "text/plain": [
       "<matplotlib.figure.Figure at 0x2cae1c090>"
      ]
     },
     "metadata": {},
     "output_type": "display_data"
    }
   ],
   "source": [
    "plot_bars(all_data,'datetime.day')"
   ]
  },
  {
   "cell_type": "code",
   "execution_count": null,
   "metadata": {
    "collapsed": true
   },
   "outputs": [],
   "source": []
  }
 ],
 "metadata": {
  "kernelspec": {
   "display_name": "Python 2",
   "language": "python",
   "name": "python2"
  },
  "language_info": {
   "codemirror_mode": {
    "name": "ipython",
    "version": 2
   },
   "file_extension": ".py",
   "mimetype": "text/x-python",
   "name": "python",
   "nbconvert_exporter": "python",
   "pygments_lexer": "ipython2",
   "version": "2.7.11"
  }
 },
 "nbformat": 4,
 "nbformat_minor": 0
}
